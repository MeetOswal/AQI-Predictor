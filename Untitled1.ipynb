{
 "cells": [
  {
   "cell_type": "code",
   "execution_count": 1,
   "id": "24ea4261",
   "metadata": {},
   "outputs": [],
   "source": [
    "import pandas as pd\n",
    "import numpy as np\n",
    "from sklearn import preprocessing\n",
    "from sklearn.model_selection import train_test_split\n",
    "import math\n",
    "import matplotlib.pyplot as plt"
   ]
  },
  {
   "cell_type": "code",
   "execution_count": 2,
   "id": "ac21a8ad",
   "metadata": {},
   "outputs": [],
   "source": [
    "df = pd.read_csv('DATASET.csv', index_col = False)\n",
    "\n",
    "df.rename(columns={'Unnamed: 1':'Date'}, inplace = True)\n",
    "df.rename(columns={'Unnamed: 0':'Place'}, inplace = True)\n",
    "df.rename(columns={'Unnamed: 3':'PM10'}, inplace = True)\n",
    "df.rename(columns={'Unnamed: 4':'NO'}, inplace = True)\n",
    "df.rename(columns={'Unnamed: 5':'NO2'}, inplace = True)\n",
    "df.rename(columns={'Unnamed: 6':'NOx'}, inplace = True)\n",
    "df.rename(columns={'Unnamed: 7':'NH3'}, inplace = True)\n",
    "df.rename(columns={'Unnamed: 8':'CO'}, inplace = True)\n",
    "df.rename(columns={'Unnamed: 9':'SO2'}, inplace = True)\n",
    "df.rename(columns={'Unnamed: 10':'O3'}, inplace = True)\n",
    "df.rename(columns={'INPUT PARAMETERS':'PM2'}, inplace = True)\n",
    "df.rename(columns={'OUTPUT':'Output'}, inplace = True)\n",
    "\n",
    "df = df.loc[:,~df.columns.str.match('Unnamed')]\n",
    "\n",
    "df = df.drop(df.index[0])\n",
    "\n",
    "df['PM2'] = df['PM2'].astype('float32')\n",
    "df['PM10'] = df['PM10'].astype('float32')\n",
    "df['NO'] = df['NO'].astype('float32')\n",
    "df['NO2'] = df['NO2'].astype('float32')\n",
    "df['NOx'] = df['NOx'].astype('float32')\n",
    "df['NH3'] = df['NH3'].astype('float32')\n",
    "df['CO'] = df['CO'].astype('float32')\n",
    "df['SO2'] = df['SO2'].astype('float32')\n",
    "df['O3'] = df['O3'].astype('float32')\n",
    "df['Output'] = df['Output'].astype('float32')\n"
   ]
  },
  {
   "cell_type": "code",
   "execution_count": 3,
   "id": "3a2cc698",
   "metadata": {},
   "outputs": [],
   "source": [
    "df.drop('Place' ,inplace = True, axis = 1)\n",
    "df.drop('Date', inplace = True, axis = 1)"
   ]
  },
  {
   "cell_type": "code",
   "execution_count": 4,
   "id": "65f32182",
   "metadata": {},
   "outputs": [],
   "source": [
    "sx = preprocessing.MinMaxScaler()\n",
    "sy = preprocessing.MinMaxScaler()"
   ]
  },
  {
   "cell_type": "code",
   "execution_count": 5,
   "id": "dbd96725",
   "metadata": {},
   "outputs": [],
   "source": [
    "training_data, testing_data = train_test_split(df, test_size=0.2, random_state=25)"
   ]
  },
  {
   "cell_type": "code",
   "execution_count": 6,
   "id": "b45c179f",
   "metadata": {},
   "outputs": [],
   "source": [
    "scaled_X = sx.fit_transform(training_data.drop('Output',axis='columns'))\n",
    "scaled_y = sy.fit_transform(training_data['Output'].values.reshape(training_data.shape[0],1))\n",
    "\n",
    "scaled_X_test = sx.fit_transform(testing_data.drop('Output',axis='columns'))\n",
    "scaled_y_test = testing_data['Output']"
   ]
  },
  {
   "cell_type": "code",
   "execution_count": 7,
   "id": "5ad3c105",
   "metadata": {},
   "outputs": [],
   "source": [
    "from sklearn.metrics import accuracy_score"
   ]
  },
  {
   "cell_type": "code",
   "execution_count": 8,
   "id": "995481fb",
   "metadata": {},
   "outputs": [
    {
     "data": {
      "text/plain": [
       "array([0.24279836, 1.        , 0.        , 0.7777778 , 0.5802469 ,\n",
       "       0.58436215, 0.04115227, 0.56378603, 0.03703704, 0.0617284 ,\n",
       "       0.12757203, 0.20987654, 0.56790125, 0.1111111 , 0.5884774 ,\n",
       "       0.1728395 , 0.12757203, 0.30041152, 0.13168725, 0.0617284 ,\n",
       "       0.33744857, 0.55144036, 0.6419753 , 0.6296296 , 0.41563788,\n",
       "       0.28806585, 0.5061728 , 0.09876543, 0.00411522, 0.1111111 ,\n",
       "       0.13580248, 0.07407407, 0.19341564, 0.56790125, 0.510288  ,\n",
       "       0.04115227, 0.1111111 , 0.16872427, 0.20987654, 0.3621399 ,\n",
       "       0.436214  , 0.30041152, 0.05349794, 0.12345678, 0.24279836,\n",
       "       0.11522633, 0.60082304, 0.06584363, 0.28806585, 0.08230452,\n",
       "       0.06584363, 0.05349794, 0.09465021, 0.13580248, 0.10699588,\n",
       "       0.38683125, 0.12345678, 0.0617284 , 0.03703704, 0.3580247 ,\n",
       "       0.10699588, 0.09876543, 0.07407407, 0.1111111 , 0.13580248,\n",
       "       0.1399177 , 0.09465021, 0.4115226 , 0.21810699, 0.13168725,\n",
       "       0.16872427, 0.62139916, 0.11934155, 0.23045269, 0.37037036,\n",
       "       0.45679012, 0.31687242, 0.23456791, 0.10288066, 0.09876543,\n",
       "       0.42386833, 0.10699588, 0.9382715 , 0.08641976, 0.05761316,\n",
       "       0.14403293, 0.13168725, 0.6255144 , 0.06584363, 0.10699588,\n",
       "       0.02880658, 0.36625513, 0.1111111 , 0.08230452, 0.06995885,\n",
       "       0.10288066, 0.49382713, 0.1399177 , 0.54732513, 0.05349794,\n",
       "       0.7160493 , 0.05349794, 0.43209878, 0.10699588, 0.06995885,\n",
       "       0.22633743, 0.04115227, 0.16872427, 0.18930042, 0.18930042,\n",
       "       0.11934155, 0.13168725, 0.08230452, 0.16049382, 0.3415638 ,\n",
       "       0.1563786 , 0.1111111 , 0.5884774 , 0.76954734, 0.14814815,\n",
       "       0.08641976, 0.05349794, 0.691358  , 0.09876543, 0.06995885,\n",
       "       0.3333333 , 0.728395  , 0.12345678, 0.18106997, 0.08641976,\n",
       "       0.04526749, 0.27572015, 0.08230452, 0.22222221, 0.32510287,\n",
       "       0.6954732 , 0.11522633, 0.0781893 , 0.08641976, 0.10288066,\n",
       "       0.09876543, 0.510288  , 0.16460904, 0.11934155, 0.19341564,\n",
       "       0.5761317 , 0.11522633, 0.87654316, 0.3950617 , 0.16460904,\n",
       "       0.1111111 , 0.38683125, 0.5226338 , 0.12345678, 0.09465021,\n",
       "       0.18106997, 0.06995885, 0.45679012, 0.6790123 , 0.02880658,\n",
       "       0.10699588, 0.04526749, 0.12345678, 0.70370364, 0.06584363,\n",
       "       0.1728395 , 0.90534973, 0.2962963 , 0.21399176, 0.09053499,\n",
       "       0.05761316, 0.10699588, 0.05761316, 0.55144036, 0.03703704,\n",
       "       0.6790123 , 0.31687242, 0.29218107, 0.04526749, 0.07407407,\n",
       "       0.14814815, 0.10699588, 0.0781893 , 0.09053499, 0.23456791,\n",
       "       0.7613169 , 0.21810699, 0.3415638 , 0.20576131, 0.15226337,\n",
       "       0.17695472, 0.06584363, 0.04938272, 0.32098764, 0.7119341 ,\n",
       "       0.44032922, 0.67078185, 0.10288066, 0.05761316, 0.0617284 ,\n",
       "       0.20576131, 0.20576131, 0.33744857, 0.0781893 , 0.16049382,\n",
       "       0.18106997, 0.40329215, 0.06584363, 0.3621399 , 0.05761316,\n",
       "       0.09053499, 0.0781893 , 0.20576131, 0.34979424, 0.48148146,\n",
       "       0.7613169 , 0.08641976, 0.5226338 , 0.0781893 , 0.2674897 ,\n",
       "       0.10699588, 0.06995885, 0.08641976, 0.744856  , 0.16460904,\n",
       "       0.30864197, 0.37448558, 0.18930042, 0.21399176, 0.06995885,\n",
       "       0.1111111 , 0.15226337, 0.04938272, 0.11522633, 0.4691358 ,\n",
       "       0.5967078 , 0.4197531 , 0.65020573, 0.1563786 , 0.11934155,\n",
       "       0.10288066, 0.1399177 , 0.03292182, 0.0781893 , 0.15226337,\n",
       "       0.3950617 , 0.49382713, 0.70781887, 0.5596708 , 0.05761316,\n",
       "       0.18930042, 0.10288066, 0.10288066, 0.6296296 , 0.5390947 ,\n",
       "       0.06995885, 0.54732513, 0.04526749, 0.17695472, 0.04115227,\n",
       "       0.08230452, 0.11934155, 0.4897119 , 0.63374484, 0.09876543,\n",
       "       0.09053499, 0.6954732 , 0.09876543, 0.53497946, 0.12757203,\n",
       "       0.07407407, 0.7572017 , 0.32098764, 0.03703704, 0.44855967,\n",
       "       0.1851852 , 0.5432099 , 0.04526749, 0.1728395 , 0.08230452,\n",
       "       0.51851845, 0.09876543, 0.09876543, 0.09465021, 0.19341564,\n",
       "       0.24279836, 0.23456791, 0.39094648, 0.08641976, 0.0617284 ,\n",
       "       0.13580248, 0.1728395 , 0.70781887, 0.1563786 , 0.1563786 ,\n",
       "       0.41563788, 0.28806585, 0.15226337, 0.11934155, 0.02469136,\n",
       "       0.09053499, 0.7983539 , 0.44855967, 0.20164609, 0.0617284 ,\n",
       "       0.1399177 , 0.2674897 , 0.39094648, 0.37037036, 0.15226337,\n",
       "       0.42798355, 0.03292182, 0.1851852 , 0.19341564, 0.14403293,\n",
       "       0.2962963 ], dtype=float32)"
      ]
     },
     "execution_count": 8,
     "metadata": {},
     "output_type": "execute_result"
    }
   ],
   "source": [
    "scaled_y.reshape(316,)"
   ]
  },
  {
   "cell_type": "code",
   "execution_count": 9,
   "id": "42440452",
   "metadata": {},
   "outputs": [
    {
     "name": "stdout",
     "output_type": "stream",
     "text": [
      "MSE:  7.1467779437694485 RMSE:  2.6733458331778643 R square 0.8526490333388796\n",
      "MSE:  0.016389644279218785 RMSE:  0.1280220460671473 R square 0.7390115238578446\n",
      "MSE:  0.00980699452585759 RMSE:  0.0990302707552473 R square 0.8041109901754748\n",
      "MSE:  0.006960897028810667 RMSE:  0.08343199044018228 R square 0.855194302307371\n",
      "MSE:  0.005416395353849972 RMSE:  0.07359616398868879 R square 0.8856287145536168\n",
      "MSE:  0.004504089305298283 RMSE:  0.06711251228570037 R square 0.9043637475500985\n",
      "MSE:  0.0039377330290872575 RMSE:  0.06275135878279654 R square 0.9162447597639751\n",
      "MSE:  0.003574897764010279 RMSE:  0.059790448769099225 R square 0.9239370084081651\n",
      "MSE:  0.003337141736788557 RMSE:  0.05776799924515784 R square 0.929000182733295\n",
      "MSE:  0.003178478418007851 RMSE:  0.056377995867251715 R square 0.9323827891156574\n"
     ]
    }
   ],
   "source": [
    "def sigmoid (x):\n",
    "    return 1/(1 + np.exp(-x))\n",
    "\n",
    "def sigmoid_dir(x):\n",
    "     return sigmoid(x)*(1 - sigmoid(x))\n",
    "\n",
    "\n",
    "def batch_gradient(X, Y, epochs, learning_rate = 0.001):\n",
    "    number_of_features = X.shape[1]\n",
    "    \n",
    "    w = np.ones(shape=(number_of_features))\n",
    "    b = 0\n",
    "    total_samples = X.shape[0]\n",
    "    \n",
    "    cost_list = []\n",
    "    epoch_list = []\n",
    "    \n",
    "    for i in range(epochs):\n",
    "        y_pred = np.dot(w,X.T) + b\n",
    "        \n",
    "        w_grad = -(2/total_samples)*(X.T.dot(Y - y_pred))\n",
    "        b_grad = -(2/total_samples)*np.sum(Y - y_pred)\n",
    "        \n",
    "        w = w - learning_rate * w_grad\n",
    "        b = b -learning_rate * b_grad\n",
    "        \n",
    "        cost = np.mean(np.square(Y - y_pred))\n",
    "        rmse = math.sqrt(cost)\n",
    "        \n",
    "        corr_matrix = np.corrcoef(Y, y_pred)\n",
    "        corr = corr_matrix[0,1]\n",
    "        R_sq = corr**2       \n",
    "        \n",
    "        \n",
    "        \n",
    "        if i % 10000 == 0:\n",
    "            print(\"MSE: \",cost, end = \" \")\n",
    "            print(\"RMSE: \",rmse, end = \" \")\n",
    "            print(\"R square\", R_sq)\n",
    "            cost_list.append(cost)\n",
    "            epoch_list.append(i)\n",
    "            \n",
    "    return w, b, cost, cost_list, epoch_list\n",
    "\n",
    "w, b, cost, cost_list, epoch_list = batch_gradient(scaled_X,scaled_y.reshape(scaled_y.shape[0],),100000)\n"
   ]
  },
  {
   "cell_type": "code",
   "execution_count": 10,
   "id": "bcaab0ba",
   "metadata": {},
   "outputs": [
    {
     "name": "stdout",
     "output_type": "stream",
     "text": [
      "17.53860325447437\n"
     ]
    },
    {
     "data": {
      "text/html": [
       "<div>\n",
       "<style scoped>\n",
       "    .dataframe tbody tr th:only-of-type {\n",
       "        vertical-align: middle;\n",
       "    }\n",
       "\n",
       "    .dataframe tbody tr th {\n",
       "        vertical-align: top;\n",
       "    }\n",
       "\n",
       "    .dataframe thead th {\n",
       "        text-align: right;\n",
       "    }\n",
       "</style>\n",
       "<table border=\"1\" class=\"dataframe\">\n",
       "  <thead>\n",
       "    <tr style=\"text-align: right;\">\n",
       "      <th></th>\n",
       "      <th>Column_A</th>\n",
       "      <th>Cloumn B</th>\n",
       "    </tr>\n",
       "  </thead>\n",
       "  <tbody>\n",
       "    <tr>\n",
       "      <th>0</th>\n",
       "      <td>50.000356</td>\n",
       "      <td>42.0</td>\n",
       "    </tr>\n",
       "    <tr>\n",
       "      <th>1</th>\n",
       "      <td>220.941006</td>\n",
       "      <td>176.0</td>\n",
       "    </tr>\n",
       "    <tr>\n",
       "      <th>2</th>\n",
       "      <td>187.622028</td>\n",
       "      <td>154.0</td>\n",
       "    </tr>\n",
       "    <tr>\n",
       "      <th>3</th>\n",
       "      <td>58.339708</td>\n",
       "      <td>57.0</td>\n",
       "    </tr>\n",
       "    <tr>\n",
       "      <th>4</th>\n",
       "      <td>125.907880</td>\n",
       "      <td>121.0</td>\n",
       "    </tr>\n",
       "    <tr>\n",
       "      <th>...</th>\n",
       "      <td>...</td>\n",
       "      <td>...</td>\n",
       "    </tr>\n",
       "    <tr>\n",
       "      <th>74</th>\n",
       "      <td>114.580775</td>\n",
       "      <td>102.0</td>\n",
       "    </tr>\n",
       "    <tr>\n",
       "      <th>75</th>\n",
       "      <td>68.090803</td>\n",
       "      <td>65.0</td>\n",
       "    </tr>\n",
       "    <tr>\n",
       "      <th>76</th>\n",
       "      <td>45.876601</td>\n",
       "      <td>59.0</td>\n",
       "    </tr>\n",
       "    <tr>\n",
       "      <th>77</th>\n",
       "      <td>272.827821</td>\n",
       "      <td>250.0</td>\n",
       "    </tr>\n",
       "    <tr>\n",
       "      <th>78</th>\n",
       "      <td>48.950336</td>\n",
       "      <td>59.0</td>\n",
       "    </tr>\n",
       "  </tbody>\n",
       "</table>\n",
       "<p>79 rows × 2 columns</p>\n",
       "</div>"
      ],
      "text/plain": [
       "      Column_A  Cloumn B\n",
       "0    50.000356      42.0\n",
       "1   220.941006     176.0\n",
       "2   187.622028     154.0\n",
       "3    58.339708      57.0\n",
       "4   125.907880     121.0\n",
       "..         ...       ...\n",
       "74  114.580775     102.0\n",
       "75   68.090803      65.0\n",
       "76   45.876601      59.0\n",
       "77  272.827821     250.0\n",
       "78   48.950336      59.0\n",
       "\n",
       "[79 rows x 2 columns]"
      ]
     },
     "execution_count": 10,
     "metadata": {},
     "output_type": "execute_result"
    }
   ],
   "source": [
    "def validation(X, w, b):\n",
    "    \n",
    "    total_samples = X.shape[0]\n",
    "    y_pred = np.dot(w,X.T) + b\n",
    "    return sy.inverse_transform([y_pred])\n",
    "y_pred = validation(scaled_X_test, w, b)\n",
    "\n",
    "#print(y_pred)\n",
    "y_pred = y_pred[0]\n",
    "scaled_y_test = scaled_y_test.T\n",
    "#print(scaled_y_test)\n",
    "maple = np.mean(np.abs((scaled_y_test - y_pred)/ scaled_y_test))*100 #MAPE\n",
    "print(maple)\n",
    "df = pd.DataFrame(y_pred, columns = ['Column_A'])\n",
    "df['Cloumn B'] =scaled_y_test.tolist()\n",
    "df"
   ]
  },
  {
   "cell_type": "code",
   "execution_count": 11,
   "id": "ecdc2617",
   "metadata": {},
   "outputs": [
    {
     "name": "stderr",
     "output_type": "stream",
     "text": [
      "F:\\anaconda\\envs\\Streamlit\\lib\\site-packages\\sklearn\\base.py:445: UserWarning: X does not have valid feature names, but MinMaxScaler was fitted with feature names\n",
      "  warnings.warn(\n"
     ]
    },
    {
     "data": {
      "text/plain": [
       "68.51726254120975"
      ]
     },
     "execution_count": 11,
     "metadata": {},
     "output_type": "execute_result"
    }
   ],
   "source": [
    "def predict(PM2,PM10,NO,NO2,NOx,NH3,CO,SO2,O3,w,b):\n",
    "    scaled_X = sx.transform([[PM2,PM10,NO,NO2,NOx,NH3,CO,SO2,O3]])[0]\n",
    "    # here w1 = w[0] , w2 = w[1], w3 = w[2] and bias is b\n",
    "    # equation for price is w1*area + w2*bedrooms + w3*age + bias\n",
    "    # scaled_X[0] is area\n",
    "    # scaled_X[1] is bedrooms\n",
    "    # scaled_X[2] is age\n",
    "    scaled_OUTPUT = w[0] * scaled_X[0] + w[1] * scaled_X[1] + w[2] * scaled_X[2] + w[3] * scaled_X[3] + w[4] * scaled_X[4] + w[5] * scaled_X[5] + w[6] * scaled_X[6] + w[7] * scaled_X[7] + w[8] * scaled_X[8] + b\n",
    "    # once we get price prediction we need to to rescal it back to original value\n",
    "    # also since it returns 2D array, to get single value we need to do value[0][0]\n",
    "    return sy.inverse_transform([[scaled_OUTPUT]])[0][0]\n",
    "\n",
    "predict(14.51,49.54,16.3,7.05,23.25,7.47,0.68,7.54,18.91,w,b)"
   ]
  },
  {
   "cell_type": "code",
   "execution_count": 12,
   "id": "2048f45b",
   "metadata": {},
   "outputs": [
    {
     "data": {
      "text/plain": [
       "[<matplotlib.lines.Line2D at 0x28aae9db370>]"
      ]
     },
     "execution_count": 12,
     "metadata": {},
     "output_type": "execute_result"
    },
    {
     "data": {
      "image/png": "[encoded data removed]",
      "text/plain": [
       "<Figure size 432x288 with 1 Axes>"
      ]
     },
     "metadata": {
      "needs_background": "light"
     },
     "output_type": "display_data"
    }
   ],
   "source": [
    "plt.plot(epoch_list, cost_list)"
   ]
  },
  {
   "cell_type": "code",
   "execution_count": 13,
   "id": "b7622e69",
   "metadata": {},
   "outputs": [
    {
     "data": {
      "image/png": "[encoded data removed]",
      "text/plain": [
       "<Figure size 720x720 with 1 Axes>"
      ]
     },
     "metadata": {
      "needs_background": "light"
     },
     "output_type": "display_data"
    }
   ],
   "source": [
    "plt.figure(figsize = (10,10))\n",
    "plt.scatter(y_pred, scaled_y_test, c = 'crimson')\n",
    "plt.yscale('log')\n",
    "plt.xscale('log')\n",
    "\n",
    "p1 = max(max(y_pred), max(scaled_y_test))\n",
    "p2 = min(min(y_pred), min(scaled_y_test))\n",
    "plt.plot([p1,p2],[p1,p2],'b-')\n",
    "plt.xlabel('True Values',fontsize = 15)\n",
    "plt.ylabel('Predicted Value', fontsize = 15)\n",
    "plt.axis('equal')\n",
    "plt.show()"
   ]
  },
  {
   "cell_type": "code",
   "execution_count": 102,
   "id": "ca10b487",
   "metadata": {},
   "outputs": [
    {
     "name": "stdout",
     "output_type": "stream",
     "text": [
      "MSE:  0.6071327681025543 RMSE:  0.7791872484214268 R square 0.1827014462407209\n",
      "MSE:  0.11700926425237336 RMSE:  0.34206616940640794 R square 0.7148939105152292\n",
      "MSE:  0.09818007293714366 RMSE:  0.31333699580027835 R square 0.7481516823745198\n",
      "MSE:  0.09212426592654464 RMSE:  0.30351979495008996 R square 0.752848518885785\n",
      "MSE:  0.08599942106896559 RMSE:  0.29325657890142137 R square 0.7646102876324986\n",
      "MSE:  0.08140273278924395 RMSE:  0.2853116415242181 R square 0.7705269733837032\n",
      "MSE:  0.07990087419065509 RMSE:  0.28266742682993223 R square 0.7612290854663903\n",
      "MSE:  0.07913541250446353 RMSE:  0.28131017134910624 R square 0.744689857092167\n",
      "MSE:  0.07821365455368494 RMSE:  0.2796670423086799 R square 0.7411546728185495\n",
      "MSE:  0.0775458141458053 RMSE:  0.2784704906193927 R square 0.7404474998877689\n",
      "MSE:  0.07733016886846994 RMSE:  0.27808302513542593 R square 0.7369733841118709\n",
      "MSE:  0.07727961292448016 RMSE:  0.27799210946442376 R square 0.7333518976679718\n",
      "MSE:  0.0772186713452366 RMSE:  0.27788247757862783 R square 0.7315732473341864\n"
     ]
    }
   ],
   "source": [
    "def sigmoid (x):\n",
    "    return 1/(1 + np.exp(-x))\n",
    "\n",
    "def sigmoid_dir(x):\n",
    "     return sigmoid(x)*(1 - sigmoid(x))\n",
    "\n",
    "def batch_gradient_hidden(X, Y, epochs, learning_rate = 0.001):\n",
    "    number_of_features = X.shape[1]\n",
    "\n",
    "    w1 = np.ones(shape=(19,9))\n",
    "    w2 = np.ones(shape=(1,19))\n",
    "    b1 = 0\n",
    "    b2 = 0\n",
    "    total_samples = X.shape[0]\n",
    "    \n",
    "    cost_list = []\n",
    "    epoch_list = []\n",
    "    y_predlist = [] \n",
    "    for i in range(epochs):\n",
    "        h = np.dot(w1,X.T) + b1\n",
    "        h_pred = sigmoid(h)\n",
    "        y = np.dot(w2,h_pred) + b2\n",
    "        y_pred = sigmoid(y)\n",
    "        \n",
    "        error = Y -y_pred\n",
    "        NUM = sigmoid_dir(h)\n",
    "        back_hidden = error * NUM\n",
    "        \n",
    "        x = X.T\n",
    "        h_grad = np.dot(x, back_hidden.T )\n",
    "        NUM2 = sigmoid_dir(y)\n",
    "        back_output = error * NUM2\n",
    "        A1= h_pred\n",
    "        w_grad = np.dot(A1,back_output.T)\n",
    "        b_grad = -2/(total_samples)*np.sum(Y - y_pred)\n",
    "        w1 = w1 - learning_rate * h_grad.T\n",
    "        w2 = w2 - learning_rate * w_grad\n",
    "        b2 = b2 -learning_rate * b_grad\n",
    "        b1 = b1 -learning_rate * b_grad\n",
    "        cost = np.mean(np.square(Y - y_pred)) \n",
    "        \n",
    "        rmse = math.sqrt(cost)\n",
    "        \n",
    "        corr_matrix = np.corrcoef(Y, y_pred)\n",
    "        corr = corr_matrix[0,1]\n",
    "        R_sq = corr**2     \n",
    "        \n",
    "        if i % 1000 == 0:\n",
    "            print(\"MSE: \",cost, end = \" \")\n",
    "            print(\"RMSE: \",rmse, end = \" \")\n",
    "            print(\"R square\", R_sq)\n",
    "            cost_list.append(cost)\n",
    "            epoch_list.append(i)\n",
    "            \n",
    "    return w, b, cost, cost_list, epoch_list\n",
    "\n",
    "w, b, cost, cost_list, epoch_list = batch_gradient(scaled_X,scaled_y.reshape(scaled_y.shape[0],),13000)"
   ]
  },
  {
   "cell_type": "code",
   "execution_count": 91,
   "id": "95d08273",
   "metadata": {},
   "outputs": [
    {
     "name": "stderr",
     "output_type": "stream",
     "text": [
      "F:\\anaconda\\envs\\Streamlit\\lib\\site-packages\\sklearn\\base.py:445: UserWarning: X does not have valid feature names, but MinMaxScaler was fitted with feature names\n",
      "  warnings.warn(\n"
     ]
    },
    {
     "data": {
      "text/plain": [
       "68.51726254120975"
      ]
     },
     "execution_count": 91,
     "metadata": {},
     "output_type": "execute_result"
    }
   ],
   "source": [
    "def predict(PM2,PM10,NO,NO2,NOx,NH3,CO,SO2,O3,w,b):\n",
    "    scaled_X = sx.transform([[PM2,PM10,NO,NO2,NOx,NH3,CO,SO2,O3]])[0]\n",
    "    # here w1 = w[0] , w2 = w[1], w3 = w[2] and bias is b\n",
    "    # equation for price is w1*area + w2*bedrooms + w3*age + bias\n",
    "    # scaled_X[0] is area\n",
    "    # scaled_X[1] is bedrooms\n",
    "    # scaled_X[2] is age\n",
    "    scaled_OUTPUT = w[0] * scaled_X[0] + w[1] * scaled_X[1] + w[2] * scaled_X[2] + w[3] * scaled_X[3] + w[4] * scaled_X[4] + w[5] * scaled_X[5] + w[6] * scaled_X[6] + w[7] * scaled_X[7] + w[8] * scaled_X[8] + b\n",
    "    # once we get price prediction we need to to rescal it back to original value\n",
    "    # also since it returns 2D array, to get single value we need to do value[0][0]\n",
    "    return sy.inverse_transform([[scaled_OUTPUT]])[0][0]\n",
    "\n",
    "predict(14.51,49.54,16.3,7.05,23.25,7.47,0.68,7.54,18.91,w,b)"
   ]
  },
  {
   "cell_type": "code",
   "execution_count": null,
   "id": "1610e7bd",
   "metadata": {},
   "outputs": [],
   "source": []
  }
 ],
 "metadata": {
  "kernelspec": {
   "display_name": "Python 3 (ipykernel)",
   "language": "python",
   "name": "python3"
  },
  "language_info": {
   "codemirror_mode": {
    "name": "ipython",
    "version": 3
   },
   "file_extension": ".py",
   "mimetype": "text/x-python",
   "name": "python",
   "nbconvert_exporter": "python",
   "pygments_lexer": "ipython3",
   "version": "3.8.12"
  }
 },
 "nbformat": 4,
 "nbformat_minor": 5
}
